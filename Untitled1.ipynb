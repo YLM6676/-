{
 "cells": [
  {
   "cell_type": "code",
   "execution_count": 1,
   "id": "0a589aff",
   "metadata": {},
   "outputs": [],
   "source": [
    "import cv2\n",
    "import matplotlib.pyplot as plt\n",
    "import numpy as np\n",
    "%matplotlib inline\n",
    "\n",
    "img=cv2.imread('image.png')"
   ]
  },
  {
   "cell_type": "code",
   "execution_count": 2,
   "id": "d3b28837",
   "metadata": {},
   "outputs": [],
   "source": [
    "def cv_show(name,image):\n",
    "    cv2.imshow(name,image)\n",
    "    cv2.waitKey(0)\n",
    "    cv2.destroyAllWindows()"
   ]
  },
  {
   "cell_type": "code",
   "execution_count": 3,
   "id": "03ed76a6",
   "metadata": {},
   "outputs": [],
   "source": [
    "hsv=cv2.cvtColor(img,cv2.COLOR_BGR2HSV)\n",
    "lower_red = np.array([0,43,46])\n",
    "upper_red = np.array([15,255,255])\n",
    "mask=cv2.inRange(hsv,lower_red,upper_red)\n",
    "cv2.namedWindow(\"mask\", cv2.WINDOW_NORMAL)"
   ]
  },
  {
   "cell_type": "code",
   "execution_count": 4,
   "id": "6022f990",
   "metadata": {},
   "outputs": [],
   "source": [
    "img1=cv2.medianBlur(mask,5)"
   ]
  },
  {
   "cell_type": "code",
   "execution_count": 7,
   "id": "45c41ec1",
   "metadata": {},
   "outputs": [],
   "source": [
    "ret,thresh=cv2.threshold(img1,127,255,cv2.THRESH_BINARY)\n",
    "contours,hierarchy=cv2.findContours(thresh,cv2.RETR_TREE,cv2.CHAIN_APPROX_NONE)\n",
    "cnt=contours[0]\n",
    "\n",
    "x,y,w,h=cv2.boundingRect(cnt)\n",
    "img=cv2.rectangle(img,(x,y),(x+w,y+h),(0,255,0),2)\n",
    "cv_show('img',img)"
   ]
  },
  {
   "cell_type": "code",
   "execution_count": 28,
   "id": "4c0b49cd",
   "metadata": {},
   "outputs": [],
   "source": [
    "a=x-w/2"
   ]
  },
  {
   "cell_type": "code",
   "execution_count": 31,
   "id": "da69de6c",
   "metadata": {},
   "outputs": [],
   "source": [
    "b=y+h/2\n",
    "text=str((a,b))"
   ]
  },
  {
   "cell_type": "code",
   "execution_count": 57,
   "id": "6635733f",
   "metadata": {
    "scrolled": true
   },
   "outputs": [],
   "source": [
    "AddText = img.copy()\n",
    "cv2.putText(AddText,text, (100, 400), cv2.FONT_HERSHEY_COMPLEX, 0.5, (255, 0, 0), 1)\n",
    "cv_show('img',AddText)"
   ]
  },
  {
   "cell_type": "code",
   "execution_count": 59,
   "id": "471a1dd6",
   "metadata": {},
   "outputs": [
    {
     "data": {
      "text/plain": [
       "True"
      ]
     },
     "execution_count": 59,
     "metadata": {},
     "output_type": "execute_result"
    }
   ],
   "source": [
    "cv2.imwrite('img.jpg', AddText, [cv2.IMWRITE_PNG_COMPRESSION, 0])"
   ]
  },
  {
   "cell_type": "code",
   "execution_count": null,
   "id": "ea97a2dc",
   "metadata": {},
   "outputs": [],
   "source": []
  }
 ],
 "metadata": {
  "kernelspec": {
   "display_name": "Python 3 (ipykernel)",
   "language": "python",
   "name": "python3"
  },
  "language_info": {
   "codemirror_mode": {
    "name": "ipython",
    "version": 3
   },
   "file_extension": ".py",
   "mimetype": "text/x-python",
   "name": "python",
   "nbconvert_exporter": "python",
   "pygments_lexer": "ipython3",
   "version": "3.9.7"
  }
 },
 "nbformat": 4,
 "nbformat_minor": 5
}
